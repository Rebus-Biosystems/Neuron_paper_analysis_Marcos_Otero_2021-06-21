{
 "cells": [
  {
   "cell_type": "code",
   "execution_count": 2,
   "id": "47f51c52-508d-4c50-8dc5-6b5e17894e62",
   "metadata": {},
   "outputs": [],
   "source": [
    "# Setup notebook enivironment\n",
    "\n",
    "%matplotlib widget\n",
    "%config InlineBackend.figure_format = 'retina'\n",
    "%config Completer.use_jedi = False\n",
    "%load_ext autoreload\n",
    "%autoreload 2"
   ]
  },
  {
   "cell_type": "code",
   "execution_count": 4,
   "id": "372a000a-436e-4553-a556-47b30034ebee",
   "metadata": {},
   "outputs": [],
   "source": [
    "import numpy as np\n",
    "import pandas as pd\n",
    "from matplotlib import pyplot as plt\n",
    "from skimage import io, measure, segmentation\n",
    "from pathlib import Path\n",
    "# from scipy import ndimage\n",
    "from scipy.io import loadmat"
   ]
  },
  {
   "cell_type": "markdown",
   "id": "2577b621-32a2-4abb-a44b-ae1680e2e934",
   "metadata": {},
   "source": [
    "# Goal"
   ]
  },
  {
   "cell_type": "markdown",
   "id": "6bfce440-28fc-4135-879a-b4e6817800e3",
   "metadata": {},
   "source": [
    "The goal of the analysis is to identify which labelled nuclei are also IF positive.\n",
    "- Determine the normalised staining of the (nuclei+/IF+ cells)/area\n",
    "- Determine the normalised staining of the non nuclear region in (nuclei+/IF+ cells)\n",
    "- Determine the normalised staining of the nuclear region in (nuclei+/IF+ cells)\n"
   ]
  },
  {
   "cell_type": "markdown",
   "id": "77e21af7-dffd-4273-b354-9760648c7b58",
   "metadata": {},
   "source": [
    "# Strategy"
   ]
  },
  {
   "cell_type": "markdown",
   "id": "2811cd4d-dd91-4f00-b362-fa6591f40640",
   "metadata": {},
   "source": [
    "The DAPI signal that define the nuclei has been collected in Cyc01R and Cyc11R_IF but segmented only on Cyc01R.   \n",
    "The IF signal has been collected and segmented in Cyc11R_IF therefore it needs to be registered to Cyc01R.\n",
    "\n",
    "__STEP1__: register the IF label image Cyc11R_IF to Cyc01R   \n",
    "__STEP2__: Identify the nuclei+/IF+ cells using the following criteria: _a cell is considered nuclei+/IF+ if the area of the overlapping region is >= the area of the nuclei_\n",
    "\n"
   ]
  },
  {
   "cell_type": "markdown",
   "id": "cb126427-d7d3-42ca-af23-f441f521a2a6",
   "metadata": {},
   "source": [
    "## Questions"
   ]
  },
  {
   "cell_type": "markdown",
   "id": "42a71893-0107-442c-8aa5-1d126003ea36",
   "metadata": {},
   "source": [
    "# Define working directories"
   ]
  },
  {
   "cell_type": "code",
   "execution_count": 5,
   "id": "580b1096-0d19-48a7-8b65-bd318fd4c99b",
   "metadata": {},
   "outputs": [],
   "source": [
    "# Define the working directories\n",
    "# data_path = Path('/data/opticalbiosystems.com/Marcos Otero - 2021-06-21_Stf1-Subset_Simone')\n",
    "# data_path = Path(r'C:\\Users\\Syousefi\\Downloads\\2021-06-21_Stf1-Subset_Simone')\n",
    "data_path = Path(r'C:\\Users\\Syousefi\\Downloads\\2021-06-12_Stf1_Tau-dataset')\n",
    "nuclei_data_path = data_path / 'Cyc01R'\n",
    "# IF_data_path = data_path / 'Cyc11R_IF'\n",
    "IF_data_path = data_path / 'Cyc11R_IF_segm'\n",
    "\n",
    "segmentation_nuclei_path = nuclei_data_path / 'StarDistSegResults_v8.1'\n",
    "# segmentation_IF_path = IF_data_path / 'Segmentation_IF_watershed'\n",
    "segmentation_IF_path = IF_data_path / 'Segmentation_AT8'\n"
   ]
  },
  {
   "cell_type": "code",
   "execution_count": 6,
   "metadata": {},
   "outputs": [
    {
     "ename": "FileNotFoundError",
     "evalue": "[Errno 2] No such file or directory: 'C:\\\\Users\\\\Syousefi\\\\Downloads\\\\2021-06-12_Stf1_Tau-datasetPCA_07072021_r1\\\\FinalReport_PerCellAnalysis.csv'",
     "output_type": "error",
     "traceback": [
      "\u001b[1;31m---------------------------------------------------------------------------\u001b[0m",
      "\u001b[1;31mFileNotFoundError\u001b[0m                         Traceback (most recent call last)",
      "\u001b[1;32m~\\AppData\\Local\\Temp/ipykernel_28444/4171166690.py\u001b[0m in \u001b[0;36m<module>\u001b[1;34m\u001b[0m\n\u001b[0;32m      7\u001b[0m \u001b[0mtemp_dir\u001b[0m \u001b[1;33m=\u001b[0m \u001b[1;34mr\"C:\\Users\\Syousefi\\Downloads\\2021-06-12_Stf1_Tau-dataset\\temp\"\u001b[0m\u001b[1;33m\u001b[0m\u001b[1;33m\u001b[0m\u001b[0m\n\u001b[0;32m      8\u001b[0m \u001b[1;33m\u001b[0m\u001b[0m\n\u001b[1;32m----> 9\u001b[1;33m \u001b[0mcell_by_gene_table\u001b[0m \u001b[1;33m=\u001b[0m \u001b[0mpd\u001b[0m\u001b[1;33m.\u001b[0m\u001b[0mread_csv\u001b[0m\u001b[1;33m(\u001b[0m\u001b[0mcell_by_gene_\u001b[0m\u001b[1;33m,\u001b[0m \u001b[0mheader\u001b[0m\u001b[1;33m=\u001b[0m\u001b[1;36m0\u001b[0m\u001b[1;33m)\u001b[0m\u001b[1;33m\u001b[0m\u001b[1;33m\u001b[0m\u001b[0m\n\u001b[0m\u001b[0;32m     10\u001b[0m \u001b[0mcell_by_gene_table\u001b[0m\u001b[1;33m[\u001b[0m\u001b[0mnew_col_name\u001b[0m\u001b[1;33m]\u001b[0m \u001b[1;33m=\u001b[0m \u001b[1;36m0\u001b[0m\u001b[1;33m\u001b[0m\u001b[1;33m\u001b[0m\u001b[0m\n",
      "\u001b[1;32mc:\\Users\\Syousefi\\Documents\\Repos\\env1\\lib\\site-packages\\pandas\\util\\_decorators.py\u001b[0m in \u001b[0;36mwrapper\u001b[1;34m(*args, **kwargs)\u001b[0m\n\u001b[0;32m    309\u001b[0m                     \u001b[0mstacklevel\u001b[0m\u001b[1;33m=\u001b[0m\u001b[0mstacklevel\u001b[0m\u001b[1;33m,\u001b[0m\u001b[1;33m\u001b[0m\u001b[1;33m\u001b[0m\u001b[0m\n\u001b[0;32m    310\u001b[0m                 )\n\u001b[1;32m--> 311\u001b[1;33m             \u001b[1;32mreturn\u001b[0m \u001b[0mfunc\u001b[0m\u001b[1;33m(\u001b[0m\u001b[1;33m*\u001b[0m\u001b[0margs\u001b[0m\u001b[1;33m,\u001b[0m \u001b[1;33m**\u001b[0m\u001b[0mkwargs\u001b[0m\u001b[1;33m)\u001b[0m\u001b[1;33m\u001b[0m\u001b[1;33m\u001b[0m\u001b[0m\n\u001b[0m\u001b[0;32m    312\u001b[0m \u001b[1;33m\u001b[0m\u001b[0m\n\u001b[0;32m    313\u001b[0m         \u001b[1;32mreturn\u001b[0m \u001b[0mwrapper\u001b[0m\u001b[1;33m\u001b[0m\u001b[1;33m\u001b[0m\u001b[0m\n",
      "\u001b[1;32mc:\\Users\\Syousefi\\Documents\\Repos\\env1\\lib\\site-packages\\pandas\\io\\parsers\\readers.py\u001b[0m in \u001b[0;36mread_csv\u001b[1;34m(filepath_or_buffer, sep, delimiter, header, names, index_col, usecols, squeeze, prefix, mangle_dupe_cols, dtype, engine, converters, true_values, false_values, skipinitialspace, skiprows, skipfooter, nrows, na_values, keep_default_na, na_filter, verbose, skip_blank_lines, parse_dates, infer_datetime_format, keep_date_col, date_parser, dayfirst, cache_dates, iterator, chunksize, compression, thousands, decimal, lineterminator, quotechar, quoting, doublequote, escapechar, comment, encoding, encoding_errors, dialect, error_bad_lines, warn_bad_lines, on_bad_lines, delim_whitespace, low_memory, memory_map, float_precision, storage_options)\u001b[0m\n\u001b[0;32m    584\u001b[0m     \u001b[0mkwds\u001b[0m\u001b[1;33m.\u001b[0m\u001b[0mupdate\u001b[0m\u001b[1;33m(\u001b[0m\u001b[0mkwds_defaults\u001b[0m\u001b[1;33m)\u001b[0m\u001b[1;33m\u001b[0m\u001b[1;33m\u001b[0m\u001b[0m\n\u001b[0;32m    585\u001b[0m \u001b[1;33m\u001b[0m\u001b[0m\n\u001b[1;32m--> 586\u001b[1;33m     \u001b[1;32mreturn\u001b[0m \u001b[0m_read\u001b[0m\u001b[1;33m(\u001b[0m\u001b[0mfilepath_or_buffer\u001b[0m\u001b[1;33m,\u001b[0m \u001b[0mkwds\u001b[0m\u001b[1;33m)\u001b[0m\u001b[1;33m\u001b[0m\u001b[1;33m\u001b[0m\u001b[0m\n\u001b[0m\u001b[0;32m    587\u001b[0m \u001b[1;33m\u001b[0m\u001b[0m\n\u001b[0;32m    588\u001b[0m \u001b[1;33m\u001b[0m\u001b[0m\n",
      "\u001b[1;32mc:\\Users\\Syousefi\\Documents\\Repos\\env1\\lib\\site-packages\\pandas\\io\\parsers\\readers.py\u001b[0m in \u001b[0;36m_read\u001b[1;34m(filepath_or_buffer, kwds)\u001b[0m\n\u001b[0;32m    480\u001b[0m \u001b[1;33m\u001b[0m\u001b[0m\n\u001b[0;32m    481\u001b[0m     \u001b[1;31m# Create the parser.\u001b[0m\u001b[1;33m\u001b[0m\u001b[1;33m\u001b[0m\u001b[1;33m\u001b[0m\u001b[0m\n\u001b[1;32m--> 482\u001b[1;33m     \u001b[0mparser\u001b[0m \u001b[1;33m=\u001b[0m \u001b[0mTextFileReader\u001b[0m\u001b[1;33m(\u001b[0m\u001b[0mfilepath_or_buffer\u001b[0m\u001b[1;33m,\u001b[0m \u001b[1;33m**\u001b[0m\u001b[0mkwds\u001b[0m\u001b[1;33m)\u001b[0m\u001b[1;33m\u001b[0m\u001b[1;33m\u001b[0m\u001b[0m\n\u001b[0m\u001b[0;32m    483\u001b[0m \u001b[1;33m\u001b[0m\u001b[0m\n\u001b[0;32m    484\u001b[0m     \u001b[1;32mif\u001b[0m \u001b[0mchunksize\u001b[0m \u001b[1;32mor\u001b[0m \u001b[0miterator\u001b[0m\u001b[1;33m:\u001b[0m\u001b[1;33m\u001b[0m\u001b[1;33m\u001b[0m\u001b[0m\n",
      "\u001b[1;32mc:\\Users\\Syousefi\\Documents\\Repos\\env1\\lib\\site-packages\\pandas\\io\\parsers\\readers.py\u001b[0m in \u001b[0;36m__init__\u001b[1;34m(self, f, engine, **kwds)\u001b[0m\n\u001b[0;32m    809\u001b[0m             \u001b[0mself\u001b[0m\u001b[1;33m.\u001b[0m\u001b[0moptions\u001b[0m\u001b[1;33m[\u001b[0m\u001b[1;34m\"has_index_names\"\u001b[0m\u001b[1;33m]\u001b[0m \u001b[1;33m=\u001b[0m \u001b[0mkwds\u001b[0m\u001b[1;33m[\u001b[0m\u001b[1;34m\"has_index_names\"\u001b[0m\u001b[1;33m]\u001b[0m\u001b[1;33m\u001b[0m\u001b[1;33m\u001b[0m\u001b[0m\n\u001b[0;32m    810\u001b[0m \u001b[1;33m\u001b[0m\u001b[0m\n\u001b[1;32m--> 811\u001b[1;33m         \u001b[0mself\u001b[0m\u001b[1;33m.\u001b[0m\u001b[0m_engine\u001b[0m \u001b[1;33m=\u001b[0m \u001b[0mself\u001b[0m\u001b[1;33m.\u001b[0m\u001b[0m_make_engine\u001b[0m\u001b[1;33m(\u001b[0m\u001b[0mself\u001b[0m\u001b[1;33m.\u001b[0m\u001b[0mengine\u001b[0m\u001b[1;33m)\u001b[0m\u001b[1;33m\u001b[0m\u001b[1;33m\u001b[0m\u001b[0m\n\u001b[0m\u001b[0;32m    812\u001b[0m \u001b[1;33m\u001b[0m\u001b[0m\n\u001b[0;32m    813\u001b[0m     \u001b[1;32mdef\u001b[0m \u001b[0mclose\u001b[0m\u001b[1;33m(\u001b[0m\u001b[0mself\u001b[0m\u001b[1;33m)\u001b[0m\u001b[1;33m:\u001b[0m\u001b[1;33m\u001b[0m\u001b[1;33m\u001b[0m\u001b[0m\n",
      "\u001b[1;32mc:\\Users\\Syousefi\\Documents\\Repos\\env1\\lib\\site-packages\\pandas\\io\\parsers\\readers.py\u001b[0m in \u001b[0;36m_make_engine\u001b[1;34m(self, engine)\u001b[0m\n\u001b[0;32m   1038\u001b[0m             )\n\u001b[0;32m   1039\u001b[0m         \u001b[1;31m# error: Too many arguments for \"ParserBase\"\u001b[0m\u001b[1;33m\u001b[0m\u001b[1;33m\u001b[0m\u001b[1;33m\u001b[0m\u001b[0m\n\u001b[1;32m-> 1040\u001b[1;33m         \u001b[1;32mreturn\u001b[0m \u001b[0mmapping\u001b[0m\u001b[1;33m[\u001b[0m\u001b[0mengine\u001b[0m\u001b[1;33m]\u001b[0m\u001b[1;33m(\u001b[0m\u001b[0mself\u001b[0m\u001b[1;33m.\u001b[0m\u001b[0mf\u001b[0m\u001b[1;33m,\u001b[0m \u001b[1;33m**\u001b[0m\u001b[0mself\u001b[0m\u001b[1;33m.\u001b[0m\u001b[0moptions\u001b[0m\u001b[1;33m)\u001b[0m  \u001b[1;31m# type: ignore[call-arg]\u001b[0m\u001b[1;33m\u001b[0m\u001b[1;33m\u001b[0m\u001b[0m\n\u001b[0m\u001b[0;32m   1041\u001b[0m \u001b[1;33m\u001b[0m\u001b[0m\n\u001b[0;32m   1042\u001b[0m     \u001b[1;32mdef\u001b[0m \u001b[0m_failover_to_python\u001b[0m\u001b[1;33m(\u001b[0m\u001b[0mself\u001b[0m\u001b[1;33m)\u001b[0m\u001b[1;33m:\u001b[0m\u001b[1;33m\u001b[0m\u001b[1;33m\u001b[0m\u001b[0m\n",
      "\u001b[1;32mc:\\Users\\Syousefi\\Documents\\Repos\\env1\\lib\\site-packages\\pandas\\io\\parsers\\c_parser_wrapper.py\u001b[0m in \u001b[0;36m__init__\u001b[1;34m(self, src, **kwds)\u001b[0m\n\u001b[0;32m     49\u001b[0m \u001b[1;33m\u001b[0m\u001b[0m\n\u001b[0;32m     50\u001b[0m         \u001b[1;31m# open handles\u001b[0m\u001b[1;33m\u001b[0m\u001b[1;33m\u001b[0m\u001b[1;33m\u001b[0m\u001b[0m\n\u001b[1;32m---> 51\u001b[1;33m         \u001b[0mself\u001b[0m\u001b[1;33m.\u001b[0m\u001b[0m_open_handles\u001b[0m\u001b[1;33m(\u001b[0m\u001b[0msrc\u001b[0m\u001b[1;33m,\u001b[0m \u001b[0mkwds\u001b[0m\u001b[1;33m)\u001b[0m\u001b[1;33m\u001b[0m\u001b[1;33m\u001b[0m\u001b[0m\n\u001b[0m\u001b[0;32m     52\u001b[0m         \u001b[1;32massert\u001b[0m \u001b[0mself\u001b[0m\u001b[1;33m.\u001b[0m\u001b[0mhandles\u001b[0m \u001b[1;32mis\u001b[0m \u001b[1;32mnot\u001b[0m \u001b[1;32mNone\u001b[0m\u001b[1;33m\u001b[0m\u001b[1;33m\u001b[0m\u001b[0m\n\u001b[0;32m     53\u001b[0m \u001b[1;33m\u001b[0m\u001b[0m\n",
      "\u001b[1;32mc:\\Users\\Syousefi\\Documents\\Repos\\env1\\lib\\site-packages\\pandas\\io\\parsers\\base_parser.py\u001b[0m in \u001b[0;36m_open_handles\u001b[1;34m(self, src, kwds)\u001b[0m\n\u001b[0;32m    220\u001b[0m         \u001b[0mLet\u001b[0m \u001b[0mthe\u001b[0m \u001b[0mreaders\u001b[0m \u001b[0mopen\u001b[0m \u001b[0mIOHandles\u001b[0m \u001b[0mafter\u001b[0m \u001b[0mthey\u001b[0m \u001b[0mare\u001b[0m \u001b[0mdone\u001b[0m \u001b[1;32mwith\u001b[0m \u001b[0mtheir\u001b[0m \u001b[0mpotential\u001b[0m \u001b[0mraises\u001b[0m\u001b[1;33m.\u001b[0m\u001b[1;33m\u001b[0m\u001b[1;33m\u001b[0m\u001b[0m\n\u001b[0;32m    221\u001b[0m         \"\"\"\n\u001b[1;32m--> 222\u001b[1;33m         self.handles = get_handle(\n\u001b[0m\u001b[0;32m    223\u001b[0m             \u001b[0msrc\u001b[0m\u001b[1;33m,\u001b[0m\u001b[1;33m\u001b[0m\u001b[1;33m\u001b[0m\u001b[0m\n\u001b[0;32m    224\u001b[0m             \u001b[1;34m\"r\"\u001b[0m\u001b[1;33m,\u001b[0m\u001b[1;33m\u001b[0m\u001b[1;33m\u001b[0m\u001b[0m\n",
      "\u001b[1;32mc:\\Users\\Syousefi\\Documents\\Repos\\env1\\lib\\site-packages\\pandas\\io\\common.py\u001b[0m in \u001b[0;36mget_handle\u001b[1;34m(path_or_buf, mode, encoding, compression, memory_map, is_text, errors, storage_options)\u001b[0m\n\u001b[0;32m    700\u001b[0m         \u001b[1;32mif\u001b[0m \u001b[0mioargs\u001b[0m\u001b[1;33m.\u001b[0m\u001b[0mencoding\u001b[0m \u001b[1;32mand\u001b[0m \u001b[1;34m\"b\"\u001b[0m \u001b[1;32mnot\u001b[0m \u001b[1;32min\u001b[0m \u001b[0mioargs\u001b[0m\u001b[1;33m.\u001b[0m\u001b[0mmode\u001b[0m\u001b[1;33m:\u001b[0m\u001b[1;33m\u001b[0m\u001b[1;33m\u001b[0m\u001b[0m\n\u001b[0;32m    701\u001b[0m             \u001b[1;31m# Encoding\u001b[0m\u001b[1;33m\u001b[0m\u001b[1;33m\u001b[0m\u001b[1;33m\u001b[0m\u001b[0m\n\u001b[1;32m--> 702\u001b[1;33m             handle = open(\n\u001b[0m\u001b[0;32m    703\u001b[0m                 \u001b[0mhandle\u001b[0m\u001b[1;33m,\u001b[0m\u001b[1;33m\u001b[0m\u001b[1;33m\u001b[0m\u001b[0m\n\u001b[0;32m    704\u001b[0m                 \u001b[0mioargs\u001b[0m\u001b[1;33m.\u001b[0m\u001b[0mmode\u001b[0m\u001b[1;33m,\u001b[0m\u001b[1;33m\u001b[0m\u001b[1;33m\u001b[0m\u001b[0m\n",
      "\u001b[1;31mFileNotFoundError\u001b[0m: [Errno 2] No such file or directory: 'C:\\\\Users\\\\Syousefi\\\\Downloads\\\\2021-06-12_Stf1_Tau-datasetPCA_07072021_r1\\\\FinalReport_PerCellAnalysis.csv'"
     ]
    }
   ],
   "source": [
    "new_col_name = \"Tau\"\n",
    "global_cell_number = 'Cell No in Montage'\n",
    "global_cell_number_gene_table = 'Cell No.'\n",
    "# cell_by_gene_path = str(data_path) + 'PCA_07072021_r1'\n",
    "# cell_by_gene_ = os.path.join(cell_by_gene_path, \"FinalReport_PerCellAnalysis.csv\")\n",
    "cell_by_gene_ = r\"C:\\Users\\Syousefi\\Downloads\\2021-06-12_Stf1_Tau-dataset\\PCA_07072021_r1\\FinalReport_PerCellAnalysis.csv\"\n",
    "temp_dir = r\"C:\\Users\\Syousefi\\Downloads\\2021-06-12_Stf1_Tau-dataset\\temp\"\n",
    "\n",
    "cell_by_gene_table = pd.read_csv(cell_by_gene_, header=0)\n",
    "cell_by_gene_table[new_col_name] = 0 "
   ]
  },
  {
   "cell_type": "markdown",
   "id": "ad68a27f-8400-4a24-99ee-fd541ac794dc",
   "metadata": {},
   "source": [
    "# Data exploration"
   ]
  },
  {
   "cell_type": "markdown",
   "id": "41db2e5a-ccc0-4b41-98a4-a21efd746da7",
   "metadata": {},
   "source": [
    "In order to better understand the data I will look into the data provided by Marcos"
   ]
  },
  {
   "cell_type": "markdown",
   "id": "48544708-0fba-4c37-a95b-3ef86541395c",
   "metadata": {},
   "source": [
    "## Load the segmented map of the nuclei"
   ]
  },
  {
   "cell_type": "markdown",
   "id": "9a99416e-9829-4bd6-8cc8-6d32606553f3",
   "metadata": {},
   "source": [
    ".mdat in StarDist output folder of cycle 1 in Marcos' data  \n",
    "- This is the Segmentation label map in which the segmented objects are labeled with the local object ID.  Non-object (background) is labeled as \"0\".  \n",
    "- Just raw data format: there is no header, no other information than pixel data \n",
    "- 4-byte unsigned integer per pixel\n",
    "- 5464x5464 pixels in Marcos' data.  So, 5464x5464x4 = 119,421,184 bytes in file size\n",
    "- Please load this data using binary file read function like fread() in C language."
   ]
  },
  {
   "cell_type": "markdown",
   "id": "1e032ba3-5700-48bb-ab77-f30361797136",
   "metadata": {},
   "source": [
    "## Load nuclei data"
   ]
  },
  {
   "cell_type": "markdown",
   "id": "80b04a03-6a15-46f4-a2a9-64559e5de1ee",
   "metadata": {},
   "source": [
    "## Load the segmented map of the IF"
   ]
  },
  {
   "cell_type": "markdown",
   "id": "2da93f3b-71ae-441f-832f-7c6bb1f6ec23",
   "metadata": {},
   "source": [
    ".dat in Segmentation_IF_watershed folder cycle 11 in Marcos' data\n",
    "- This is the Segmentation label map in which the segmented objects are labeled with the local object ID.  Non-object (background) is labeled as \"0\".\n",
    "- MATLAB's MAT (.mat) file format\n",
    "- double precision floating point per pixel 5464x5464 pixels in Marcos' data.  File size is not fixed due to MAT file's data compression.\n",
    "- Please load this data using MAT file loader function.  I believe there is Python function to load this format data."
   ]
  },
  {
   "cell_type": "markdown",
   "id": "8770f301-f012-42db-8448-e64ca7eefa7c",
   "metadata": {},
   "source": [
    "# Analysis"
   ]
  },
  {
   "cell_type": "markdown",
   "metadata": {},
   "source": []
  },
  {
   "cell_type": "code",
   "execution_count": null,
   "metadata": {},
   "outputs": [
    {
     "name": "stdout",
     "output_type": "stream",
     "text": [
      " Stain images are:  ['BP25_Dapi.png', 'BQ25_Dapi.png', 'BQ26_Dapi.png', 'BQ27_Dapi.png', 'BR21_Dapi.png', 'BR22_Dapi.png', 'BR23_Dapi.png', 'BR24_Dapi.png', 'BR25_Dapi.png', 'BR26_Dapi.png', 'BR27_Dapi.png', 'BR28_Dapi.png', 'BS19_Dapi.png', 'BS20_Dapi.png', 'BS21_Dapi.png', 'BS22_Dapi.png', 'BS23_Dapi.png', 'BS24_Dapi.png', 'BS25_Dapi.png', 'BS26_Dapi.png', 'BS27_Dapi.png', 'BS28_Dapi.png', 'BT19_Dapi.png', 'BT20_Dapi.png', 'BT21_Dapi.png', 'BT22_Dapi.png', 'BT23_Dapi.png', 'BT24_Dapi.png', 'BT25_Dapi.png', 'BT26_Dapi.png', 'BT27_Dapi.png', 'BT28_Dapi.png', 'BT29_Dapi.png', 'BU19_Dapi.png', 'BU20_Dapi.png', 'BU21_Dapi.png', 'BU22_Dapi.png', 'BU23_Dapi.png', 'BU24_Dapi.png', 'BU25_Dapi.png', 'BU26_Dapi.png', 'BU27_Dapi.png', 'BU28_Dapi.png', 'BU29_Dapi.png', 'BU30_Dapi.png', 'BV19_Dapi.png', 'BV20_Dapi.png', 'BV21_Dapi.png', 'BV22_Dapi.png', 'BV23_Dapi.png', 'BV24_Dapi.png', 'BV25_Dapi.png', 'BV26_Dapi.png', 'BV27_Dapi.png', 'BV28_Dapi.png', 'BV29_Dapi.png', 'BV30_Dapi.png', 'BW20_Dapi.png', 'BW21_Dapi.png', 'BW22_Dapi.png', 'BW23_Dapi.png', 'BW24_Dapi.png', 'BW25_Dapi.png', 'BW26_Dapi.png', 'BW27_Dapi.png', 'BW28_Dapi.png', 'BX21_Dapi.png', 'BX22_Dapi.png', 'BX23_Dapi.png', 'BX24_Dapi.png', 'BX25_Dapi.png', 'BX26_Dapi.png', 'BX27_Dapi.png', 'BY22_Dapi.png', 'BY23_Dapi.png', 'BY24_Dapi.png', 'BY25_Dapi.png', 'BZ30_Dapi.png', 'BZ31_Dapi.png', 'BZ32_Dapi.png', 'BZ33_Dapi.png', 'CA30_Dapi.png', 'CA31_Dapi.png', 'CA32_Dapi.png', 'CA33_Dapi.png', 'CA34_Dapi.png', 'CA35_Dapi.png', 'CB29_Dapi.png', 'CB30_Dapi.png', 'CB31_Dapi.png', 'CB32_Dapi.png', 'CB33_Dapi.png', 'CB34_Dapi.png', 'CB35_Dapi.png', 'CC29_Dapi.png', 'CC30_Dapi.png', 'CC31_Dapi.png', 'CC32_Dapi.png', 'CC33_Dapi.png', 'CC34_Dapi.png', 'CC35_Dapi.png', 'CD29_Dapi.png', 'CD30_Dapi.png', 'CD31_Dapi.png', 'CD32_Dapi.png', 'CD33_Dapi.png', 'CD34_Dapi.png', 'CD35_Dapi.png', 'CE28_Dapi.png', 'CE29_Dapi.png', 'CE30_Dapi.png', 'CE31_Dapi.png', 'CE32_Dapi.png', 'CE33_Dapi.png', 'CE34_Dapi.png', 'CE35_Dapi.png', 'CF28_Dapi.png', 'CF29_Dapi.png', 'CF30_Dapi.png', 'CF31_Dapi.png', 'CF32_Dapi.png', 'CF33_Dapi.png', 'CF34_Dapi.png', 'CG27_Dapi.png', 'CG28_Dapi.png', 'CG29_Dapi.png', 'CG30_Dapi.png', 'CG31_Dapi.png', 'CG32_Dapi.png', 'CG33_Dapi.png', 'CG34_Dapi.png', 'CH27_Dapi.png', 'CH28_Dapi.png', 'CH29_Dapi.png', 'CH30_Dapi.png', 'CH31_Dapi.png', 'CH32_Dapi.png', 'CH33_Dapi.png', 'CH34_Dapi.png', 'CI27_Dapi.png', 'CI28_Dapi.png', 'CI29_Dapi.png', 'CI30_Dapi.png', 'CI31_Dapi.png', 'CI32_Dapi.png', 'CI33_Dapi.png', 'CI34_Dapi.png', 'CJ27_Dapi.png', 'CJ28_Dapi.png', 'CJ29_Dapi.png', 'CJ30_Dapi.png', 'CJ31_Dapi.png', 'CJ32_Dapi.png', 'CJ33_Dapi.png', 'CJ34_Dapi.png', 'CK28_Dapi.png', 'CK29_Dapi.png', 'CK30_Dapi.png', 'CK31_Dapi.png', 'CK32_Dapi.png', 'CK33_Dapi.png']\n",
      "161 161 161 0\n",
      "All corresponding segmentations were found\n"
     ]
    }
   ],
   "source": [
    "import os \n",
    "from os import listdir\n",
    "from os.path import isfile, join\n",
    "import glob \n",
    "\n",
    "nuclei_segmentation_method = \"StarDistSegResults_v8.1\"\n",
    "stain_segmentation_method = \"Segmentation_IF_watershed\"\n",
    "\n",
    "sao_nuclei_directory = join(nuclei_data_path, \"SaoRecon\")\n",
    "sao_segmentation_IF_path = join(IF_data_path, 'SaoRecon_IF_watershed')\n",
    "\n",
    "IF_files = [f for f in listdir(segmentation_IF_path) if isfile(join(segmentation_IF_path, f))]\n",
    "# print(segmentation_IF_files)\n",
    "\n",
    "# Get the DAPI segmentation images from the watershed segmentation \n",
    "stain_IF_images = [f for f in IF_files if \"_dapi.png\" in f.lower()]\n",
    "print(\" Stain images are: \", stain_IF_images)\n",
    "\n",
    "# Get the corresponding nuclei segmented image paths \n",
    "nuclei_label_imgs = []\n",
    "nuclei_label_imgs_not_found = []\n",
    "nuclei_label_paths = []\n",
    "stain_imgs_match = []\n",
    "stain_imgs_path = []\n",
    "stain_sao_path = []\n",
    "nuclei_sao_path = []\n",
    "for f in stain_IF_images:\n",
    "    found_math = False \n",
    "    f_lower = f.lower()\n",
    "    label_img = f_lower.replace(\"_dapi\", \"_labels\")\n",
    "    \n",
    "    for root, dirnames, filenames in os.walk(segmentation_nuclei_path):\n",
    "        for _i, filename in enumerate(filenames):\n",
    "            if label_img in filename.lower():\n",
    "                # print(\"corresponding path to ... \", f, \"... is ... \", join(root,filename))\n",
    "                nuclei_label_paths.append(join(root,filename))\n",
    "                nuclei_label_imgs.append(label_img)\n",
    "                stain_imgs_match.append(f)\n",
    "                stain_imgs_path.append(join(segmentation_IF_path,f))\n",
    "                stain_sao_path.append(join(sao_segmentation_IF_path,f.replace(\"dapi\",\"Dapi\")))\n",
    "                nuclei_sao_path.append(join(sao_nuclei_directory,f.replace(\"dapi\",\"Dapi\")))\n",
    "                # print(os.path.abspath(f))\n",
    "                found_math = True \n",
    "\n",
    "    if not found_math:\n",
    "        nuclei_label_imgs_not_found.append(f)\n",
    "\n",
    "print(len(stain_imgs_match), len(nuclei_label_imgs), len(nuclei_label_paths), len(nuclei_label_imgs_not_found))\n",
    "if len(nuclei_label_imgs_not_found)>0:\n",
    "    print(\"Could not find the correspnding images for \", f)\n",
    "else:\n",
    "    print(\"All corresponding segmentations were found\")\n",
    "\n",
    "# print(nuclei_label_paths)\n",
    "# print(stain_imgs_path)"
   ]
  },
  {
   "cell_type": "markdown",
   "id": "1e9cc6b5-a278-457a-aec2-428d58c5bc9c",
   "metadata": {},
   "source": [
    "## Registration"
   ]
  },
  {
   "cell_type": "code",
   "execution_count": null,
   "id": "ee727283-0bca-4913-81cd-bbea855028fd",
   "metadata": {},
   "outputs": [],
   "source": [
    "from skimage import exposure, transform\n",
    "from skimage.util import img_as_float, img_as_ubyte\n",
    "from skimage.transform import rescale, resize\n",
    "\n",
    "show_fig = False \n",
    "\n",
    "def rescale_and_rexpose(img, v_min, v_max, min_intensity=0, max_intensity=255):\n",
    "    img_norm = max_intensity*(img-v_min)/(v_max-v_min + 0.001)\n",
    "    img_ex = exposure.rescale_intensity(img_norm, in_range=(min_intensity, max_intensity))\n",
    "    output_img = img_ex\n",
    "    return output_img\n",
    "\n",
    "def inv_and_saturate(img, _resize, min_intensity=0, max_intensity=255):\n",
    "    img_inv = img.max() - img\n",
    "    v_min, v_max = np.percentile(img_inv, (80, 95))\n",
    "    # img_inv[img_inv>=v_max] = v_max\n",
    "    img_inv[img_inv<=v_min] = 0\n",
    "    print(v_min, v_max, img_inv.min(), img_inv.max() )\n",
    "    \n",
    "    if _resize>1:        \n",
    "        print(\"Resizing\")\n",
    "        img_inv = resize(img_inv, (img_inv.shape[0] // 4, img_inv.shape[1] // 4), anti_aliasing=True)\n",
    "    \n",
    "    # img_inv = img_as_ubyte(img_inv)                   \n",
    "    \n",
    "    return img_inv\n",
    "\n",
    "N_bits = 8\n",
    "min_intensity, max_intensity = 0, 2**N_bits - 1\n",
    "shift_translation = [82, 164]\n",
    "tform = transform.SimilarityTransform(scale=1, rotation=0,\n",
    "                                      translation=(shift_translation[0], shift_translation[1]))\n",
    "tform_inv = transform.SimilarityTransform(scale=1, rotation=0,\n",
    "                                      translation=(-1*shift_translation[0], -1*shift_translation[1]))\n",
    "\n",
    "for _i, _f in enumerate(nuclei_sao_path):\n",
    "\n",
    "    _f_corrected_nuc = _f.replace(\".png\", \".tif\")\n",
    "    _f_corrected_stain = stain_sao_path[_i].replace(\".png\", \".tif\")\n",
    "    if os.path.isfile(_f_corrected_nuc) and os.path.isfile(_f_corrected_stain) and _i==3:\n",
    "        print(_i, _f_corrected_nuc, _f_corrected_stain)\n",
    "        \n",
    "        print(\"Loading \" , _f_corrected_nuc)\n",
    "        nuclei_img = img_as_float(io.imread(_f_corrected_nuc))\n",
    "        nuclei_img = transform.warp(nuclei_img, tform, preserve_range=True)\n",
    "        v_min, v_max = np.percentile(nuclei_img, (25, 95))\n",
    "        nuclei_img_ex = rescale_and_rexpose(nuclei_img, v_min, v_max)\n",
    "        nuclei_img_inv = inv_and_saturate(nuclei_img, _resize=4)\n",
    "\n",
    "        print(\"Loading \" , _f_corrected_stain)\n",
    "        stain_img = img_as_float(io.imread(_f_corrected_stain))\n",
    "        v_min, v_max = np.percentile(stain_img, (25, 99))\n",
    "        stain_img_ex = rescale_and_rexpose(stain_img, v_min, v_max)\n",
    "        stain_img_inv = inv_and_saturate(stain_img, _resize=4)\n",
    "\n",
    "        img_RGB = np.zeros([stain_img_ex.shape[0],stain_img_ex.shape[1],3])\n",
    "        img_RGB[:,:,0] = nuclei_img_ex\n",
    "        img_RGB[:,:,1] = stain_img_ex\n",
    "\n",
    "        img_RGB_check = np.zeros([nuclei_img_inv.shape[0],nuclei_img_inv.shape[1],3])\n",
    "        img_RGB_check[:,:,0] = nuclei_img_inv\n",
    "        img_RGB_check[:,:,1] = stain_img_inv\n",
    "        # _ = ax.imshow(img_RGB)\n",
    "\n",
    "        if show_fig:\n",
    "            fig = plt.figure(figsize=(12,12))\n",
    "            ax1 = fig.add_subplot(121)\n",
    "            # ax.axis('off')\n",
    "            ax1.set_title(os.path.basename(_f))\n",
    "            _ = ax1.imshow(img_as_ubyte(img_RGB))\n",
    "\n",
    "            ax2 = fig.add_subplot(122)\n",
    "            # ax.axis('off')\n",
    "            ax2.set_title(\"Overlap of the Inverse\")\n",
    "            _ = ax2.imshow(img_as_ubyte(img_RGB_check))\n"
   ]
  },
  {
   "cell_type": "code",
   "execution_count": null,
   "id": "3c6b5539-68ef-4224-bfde-e066531b997f",
   "metadata": {},
   "outputs": [
    {
     "name": "stdout",
     "output_type": "stream",
     "text": [
      "Processing 161 files\n",
      "C:\\Users\\Syousefi\\Downloads\\2021-06-12_Stf1_Tau-dataset\\Cyc11R_IF_segm\\Segmentation_AT8\\BP25_Dapi.png\n",
      "C:\\Users\\Syousefi\\Downloads\\2021-06-12_Stf1_Tau-dataset\\Cyc01R\\StarDistSegResults_v8.1\n",
      "Loading  C:\\Users\\Syousefi\\Downloads\\2021-06-12_Stf1_Tau-dataset\\Cyc01R\\StarDistSegResults_v8.1\\BP25_NucleiMap.mdat\n",
      "Loading  C:\\Users\\Syousefi\\Downloads\\2021-06-12_Stf1_Tau-dataset\\Cyc11R_IF_segm\\Segmentation_AT8\\BP25_Dapi_SegLabelMap.dat\n"
     ]
    },
    {
     "ename": "KeyboardInterrupt",
     "evalue": "",
     "output_type": "error",
     "traceback": [
      "\u001b[1;31m---------------------------------------------------------------------------\u001b[0m",
      "\u001b[1;31mKeyboardInterrupt\u001b[0m                         Traceback (most recent call last)",
      "\u001b[1;32m~\\AppData\\Local\\Temp/ipykernel_24660/4104583766.py\u001b[0m in \u001b[0;36m<module>\u001b[1;34m\u001b[0m\n\u001b[0;32m     49\u001b[0m         \u001b[0mIF_mask_matlab_dict\u001b[0m \u001b[1;33m=\u001b[0m \u001b[0mloadmat\u001b[0m\u001b[1;33m(\u001b[0m\u001b[0mopen\u001b[0m\u001b[1;33m(\u001b[0m\u001b[0mIF_mask_matlab\u001b[0m\u001b[1;33m,\u001b[0m\u001b[1;34m'rb'\u001b[0m\u001b[1;33m)\u001b[0m\u001b[1;33m)\u001b[0m\u001b[1;33m\u001b[0m\u001b[1;33m\u001b[0m\u001b[0m\n\u001b[0;32m     50\u001b[0m         \u001b[0mIF_mask_img\u001b[0m \u001b[1;33m=\u001b[0m \u001b[0mIF_mask_matlab_dict\u001b[0m\u001b[1;33m[\u001b[0m\u001b[1;34m'LR4'\u001b[0m\u001b[1;33m]\u001b[0m\u001b[1;33m\u001b[0m\u001b[1;33m\u001b[0m\u001b[0m\n\u001b[1;32m---> 51\u001b[1;33m         \u001b[0mIF_mask_img\u001b[0m \u001b[1;33m=\u001b[0m \u001b[0mtransform\u001b[0m\u001b[1;33m.\u001b[0m\u001b[0mwarp\u001b[0m\u001b[1;33m(\u001b[0m\u001b[0mIF_mask_img\u001b[0m\u001b[1;33m,\u001b[0m \u001b[0mtform_inv\u001b[0m\u001b[1;33m,\u001b[0m \u001b[0mpreserve_range\u001b[0m\u001b[1;33m=\u001b[0m\u001b[1;32mTrue\u001b[0m\u001b[1;33m)\u001b[0m\u001b[1;33m\u001b[0m\u001b[1;33m\u001b[0m\u001b[0m\n\u001b[0m\u001b[0;32m     52\u001b[0m \u001b[1;33m\u001b[0m\u001b[0m\n\u001b[0;32m     53\u001b[0m         \u001b[0mprint\u001b[0m\u001b[1;33m(\u001b[0m\u001b[1;34m\"Reading the csv nuclei list: \"\u001b[0m\u001b[1;33m)\u001b[0m\u001b[1;33m\u001b[0m\u001b[1;33m\u001b[0m\u001b[0m\n",
      "\u001b[1;32mc:\\Users\\Syousefi\\Documents\\Repos\\Neuron_paper_analysis_Marcos_Otero_2021-06-21\\env1\\lib\\site-packages\\skimage\\transform\\_warps.py\u001b[0m in \u001b[0;36mwarp\u001b[1;34m(image, inverse_map, map_args, output_shape, order, mode, cval, clip, preserve_range)\u001b[0m\n\u001b[0;32m    875\u001b[0m             \u001b[0mctype\u001b[0m \u001b[1;33m=\u001b[0m \u001b[1;34m'float32_t'\u001b[0m \u001b[1;32mif\u001b[0m \u001b[0mimage\u001b[0m\u001b[1;33m.\u001b[0m\u001b[0mdtype\u001b[0m \u001b[1;33m==\u001b[0m \u001b[0mnp\u001b[0m\u001b[1;33m.\u001b[0m\u001b[0mfloat32\u001b[0m \u001b[1;32melse\u001b[0m \u001b[1;34m'float64_t'\u001b[0m\u001b[1;33m\u001b[0m\u001b[1;33m\u001b[0m\u001b[0m\n\u001b[0;32m    876\u001b[0m             \u001b[1;32mif\u001b[0m \u001b[0mimage\u001b[0m\u001b[1;33m.\u001b[0m\u001b[0mndim\u001b[0m \u001b[1;33m==\u001b[0m \u001b[1;36m2\u001b[0m\u001b[1;33m:\u001b[0m\u001b[1;33m\u001b[0m\u001b[1;33m\u001b[0m\u001b[0m\n\u001b[1;32m--> 877\u001b[1;33m                 warped = _warp_fast[ctype](image, matrix,\n\u001b[0m\u001b[0;32m    878\u001b[0m                                            \u001b[0moutput_shape\u001b[0m\u001b[1;33m=\u001b[0m\u001b[0moutput_shape\u001b[0m\u001b[1;33m,\u001b[0m\u001b[1;33m\u001b[0m\u001b[1;33m\u001b[0m\u001b[0m\n\u001b[0;32m    879\u001b[0m                                            order=order, mode=mode, cval=cval)\n",
      "\u001b[1;31mKeyboardInterrupt\u001b[0m: "
     ]
    }
   ],
   "source": [
    "from skimage.measure import label, regionprops, regionprops_table\n",
    "from sklearn.metrics import pairwise_distances_argmin_min\n",
    "from scipy.spatial import distance\n",
    "\n",
    "show_fig = False          \n",
    "process_overlap = True \n",
    "save_individual_csv = True  \n",
    "\n",
    "def get_corresponding_nuclei_list(filepath, segmentation_path):\n",
    "\n",
    "    filename = os.path.basename(filepath)\n",
    "    _, file_extension = os.path.splitext(filepath)\n",
    "    filename = filename.replace(\"_Dapi\",\"_NucleiList\")\n",
    "    csv_name = filename.replace(file_extension, \".csv\")\n",
    "    csv_path = os.path.join(segmentation_path, csv_name)\n",
    "    if not os.path.isfile(csv_path):\n",
    "        print(f\"file {csv_path} does not exitst\")\n",
    "    return csv_path, csv_name\n",
    "\n",
    "def _get_centroid_label(nuclei_masks_img, _l):\n",
    "\n",
    "                mask_img_bin = (nuclei_masks_img == _l)\n",
    "                label_img = label(mask_img_bin)\n",
    "                regions = regionprops(label_img)\n",
    "                for _i, props in enumerate(regions):\n",
    "                    if _i==0:\n",
    "                        y0, x0 = props.centroid\n",
    "                        centoid_xy = (x0,y0)\n",
    "                return centoid_xy\n",
    "\n",
    "print(f\"Processing {len(stain_imgs_path)} files\")\n",
    "print(stain_imgs_path[0])\n",
    "print(segmentation_nuclei_path)\n",
    "\n",
    "for _i, _f in enumerate(stain_imgs_path):\n",
    "    # print(_i, _f)\n",
    "    nuclei_map_filename = nuclei_label_paths[_i].replace(\"_labels.png\", \"_NucleiMap.mdat\")\n",
    "    IF_mask_matlab = _f.replace(\".png\",\"_SegLabelMap.dat\")\n",
    "\n",
    "    # print(IF_mask_matlab)\n",
    "    if os.path.isfile(nuclei_map_filename) and os.path.isfile(IF_mask_matlab):\n",
    "        \n",
    "        print(\"Loading \" , nuclei_map_filename)\n",
    "        nuclei_masks_img_raw = np.fromfile(nuclei_map_filename, dtype='<i4').reshape(5464,5464)\n",
    "\n",
    "        # Warping happens on IF image instead to avoid confusion from the center of mass points \n",
    "        nuclei_masks_img = nuclei_masks_img_raw\n",
    "        print(\"Loading \" , IF_mask_matlab)\n",
    "\n",
    "        IF_mask_matlab_dict = loadmat(open(IF_mask_matlab,'rb'))\n",
    "        IF_mask_img = IF_mask_matlab_dict['LR4']\n",
    "        IF_mask_img = transform.warp(IF_mask_img, tform_inv, preserve_range=True)\n",
    "\n",
    "        print(\"Reading the csv nuclei list: \")\n",
    "        csv_path, csv_name = get_corresponding_nuclei_list(_f, segmentation_nuclei_path)\n",
    "        nuclei_table = pd.read_csv(csv_path, header=0) \n",
    "        nuclei_table[new_col_name] = 0\n",
    "\n",
    "        nuclei_table_coords = nuclei_table.filter(['X in FOV','Y in FOV'], axis=1)\n",
    "        nuclei_table_coords_arr = nuclei_table_coords.to_numpy()\n",
    "        # print(nuclei_table_coords_arr.shape)\n",
    "\n",
    "        overlap_img = nuclei_masks_img * (nuclei_masks_img>=1) * (IF_mask_img>=1)\n",
    "        print(f\"nuclei_masks_img Label min = {nuclei_masks_img.min()} and max = {nuclei_masks_img.max()}\")\n",
    "        # print(f\"ref_img Label min = {ref_img.min()} and max = {ref_img.max()}\")\n",
    "\n",
    "        cell_labels =(np.unique(overlap_img))[1:]\n",
    "        cell_overlap_count = []\n",
    "        total_label_count = []\n",
    "        cell_label_ratio = []\n",
    "        region_centroids = []\n",
    "\n",
    "        for _l in cell_labels:           \n",
    "            count_total = np.count_nonzero(nuclei_masks_img == _l)\n",
    "            total_label_count.append(count_total)\n",
    "            overlap_count = np.count_nonzero(overlap_img == _l)\n",
    "            cell_overlap_count.append(overlap_count)\n",
    "            cell_ratio = overlap_count/count_total\n",
    "            cell_label_ratio.append(cell_ratio)\n",
    "\n",
    "            # Get the binary shape location and centroid \n",
    "            centoid_xy = _get_centroid_label(nuclei_masks_img, _l)\n",
    "            centoid_xy = np.array(centoid_xy)\n",
    "            centoid_xy = centoid_xy.reshape(1,2)\n",
    "            \n",
    "            # Get the closest point frm centroids \n",
    "            _pair_dist_eucl = distance.cdist(centoid_xy, nuclei_table_coords_arr, 'euclidean')\n",
    "            _argmin = np.argmin(_pair_dist_eucl)\n",
    "            _corresnponding_centroid = nuclei_table_coords_arr[_argmin] \n",
    "            region_centroids.append(_corresnponding_centroid)\n",
    "            _label_in_fov = _argmin + 1\n",
    "            \n",
    "            # Reduce the precision and insert on the table \n",
    "            cell_ratio_str = str(\"{:.3f}\".format(cell_ratio))\n",
    "            nuclei_table.loc[nuclei_table[\"Label in Fov\"]==_label_in_fov, new_col_name] = cell_ratio_str\n",
    "            cell_glb = nuclei_table.loc[nuclei_table['Label in Fov'] == _label_in_fov, global_cell_number]\n",
    "            cell_ = nuclei_table.loc[lambda nuclei_table: nuclei_table['Label in Fov'] == _label_in_fov]\n",
    "            _global_index = cell_[global_cell_number].iloc[0] - 1\n",
    "            _global_cell_no = _global_index + 1\n",
    "\n",
    "            cell_by_gene_table.loc[\\\n",
    "                cell_by_gene_table[global_cell_number_gene_table]==_global_cell_no,\\\n",
    "                    new_col_name] = cell_ratio_str\n",
    "        \n",
    "        if save_individual_csv:\n",
    "            nuclei_table.to_csv(os.path.join(temp_dir,csv_name), index=False)\n",
    "\n",
    "        if show_fig:\n",
    "\n",
    "            _centroids_arr = np.array(region_centroids)\n",
    "            region_centroids_arr = pd.DataFrame(_centroids_arr, columns=['X', 'Y'])\n",
    "        \n",
    "            fig = plt.figure(figsize=(16,6))\n",
    "            ax1 = fig.add_subplot(131)\n",
    "            ax1.scatter(nuclei_table[\"X in FOV\"], nuclei_table[\"Y in FOV\"], s=0.5, marker='o', c='r')\n",
    "            # ax.axis('off')\n",
    "            ax1.set_title(os.path.basename(nuclei_map_filename))\n",
    "            shw = ax1.imshow(nuclei_masks_img_raw)\n",
    "            # bar = plt.colorbar(shw)\n",
    "\n",
    "            ax2 = fig.add_subplot(132)\n",
    "            # ax.axis('off')\n",
    "            ax2.set_title(os.path.basename(IF_mask_matlab))\n",
    "            ax2.scatter(region_centroids_arr['X'], region_centroids_arr['Y'], s=5, marker='o', c='r')\n",
    "            shw  = ax2.imshow(IF_mask_img)\n",
    "            # bar = plt.colorbar(shw)\n",
    "\n",
    "            ax3 = fig.add_subplot(133)\n",
    "            # ax.axis('off')\n",
    "            ax3.set_title(\"Overlap\")\n",
    "            shw  = ax3.imshow(overlap_img)\n",
    "            ax3.scatter(region_centroids_arr['X'], region_centroids_arr['Y'], s=2, marker='+', c='r')\n",
    "\n",
    "            # cbar_ax = fig.add_axes([0.85, 0.15, 0.05, 0.7])\n",
    "            # # fig.colorbar(shw, ax=ax3.ravel().tolist())\n",
    "            # fig.colorbar(shw, cax=cbar_ax)\n",
    "\n",
    "cell_by_gene_table.to_csv(os.path.join(temp_dir,\"PerCellAnalysis.csv\"), index=False)\n"
   ]
  },
  {
   "cell_type": "markdown",
   "id": "b9ffc6f7-8766-4e46-a2b7-16cf6a1c81c5",
   "metadata": {},
   "source": [
    "## Identify nuclei+ / IF+"
   ]
  },
  {
   "cell_type": "code",
   "execution_count": null,
   "id": "6c4e2f65-a96f-4c55-bf6c-0628879bc637",
   "metadata": {},
   "outputs": [],
   "source": [
    "# nuc_IF_positive = nuclei_masks_img.astype('bool')*IF_mask_img.astype('bool')\n",
    "# label_overlapping_nuclei = nuc_IF_positive*nuclei_masks_img\n",
    "# label_overlapping_IF = nuc_IF_positive*IF_mask_img"
   ]
  },
  {
   "cell_type": "code",
   "execution_count": null,
   "id": "5690f020-da7b-4e8e-8654-de053151b97f",
   "metadata": {},
   "outputs": [
    {
     "data": {
      "text/plain": [
       "array([False,  True])"
      ]
     },
     "execution_count": 15,
     "metadata": {},
     "output_type": "execute_result"
    }
   ],
   "source": [
    "# np.unique(nuc_IF_positive)"
   ]
  },
  {
   "cell_type": "code",
   "execution_count": null,
   "id": "85d86718-47c1-4cb5-bc7e-7b0561a2b486",
   "metadata": {},
   "outputs": [
    {
     "name": "stderr",
     "output_type": "stream",
     "text": [
      "Clipping input data to the valid range for imshow with RGB data ([0..1] for floats or [0..255] for integers).\n"
     ]
    },
    {
     "data": {
      "application/vnd.jupyter.widget-view+json": {
       "model_id": "d418726c053f45198db2b78e4acc964a",
       "version_major": 2,
       "version_minor": 0
      },
      "text/html": [
       "\n",
       "            <div style=\"display: inline-block;\">\n",
       "                <div class=\"jupyter-widgets widget-label\" style=\"text-align: center;\">\n",
       "                    Figure\n",
       "                </div>\n",
       "                <img src='data:image/png;base64,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' width=600.0/>\n",
       "            </div>\n",
       "        "
      ],
      "text/plain": [
       "Canvas(toolbar=Toolbar(toolitems=[('Home', 'Reset original view', 'home', 'home'), ('Back', 'Back to previous …"
      ]
     },
     "metadata": {},
     "output_type": "display_data"
    }
   ],
   "source": [
    "# fig = plt.figure(figsize=(6,6))\n",
    "# ax = fig.add_subplot(111)\n",
    "# ax.axis('off')\n",
    "# ax.set_title('Overlapping Nuclei/IF original')\n",
    "# img_RGB = np.zeros([nuc_IF_positive.shape[0],nuc_IF_positive.shape[1],3])\n",
    "# img_RGB[:,:,0] = nuclei_masks_img\n",
    "# img_RGB[:,:,1] = IF_mask_img\n",
    "# _ = ax.imshow(img_RGB)"
   ]
  },
  {
   "cell_type": "code",
   "execution_count": null,
   "id": "5838270c-ac13-42b1-801e-7725d10a711e",
   "metadata": {},
   "outputs": [],
   "source": []
  },
  {
   "cell_type": "markdown",
   "id": "efbe8800-ee20-4ab0-a029-bb703d635a61",
   "metadata": {},
   "source": [
    "# Simulation"
   ]
  },
  {
   "cell_type": "markdown",
   "id": "b552fefb-b856-4a63-8231-396b8c0fe09b",
   "metadata": {},
   "source": [
    "Because the overlapping region of the images is little (probablt for the missing registration) I will run a test on synthetic images based on the nuclei"
   ]
  },
  {
   "cell_type": "code",
   "execution_count": null,
   "id": "36ee5c51-6902-4d00-aa49-b2a2095434c4",
   "metadata": {},
   "outputs": [],
   "source": [
    "# create the fake IF image\n",
    "fake_image_IF = nuclei_masks_img.copy()\n",
    "\n",
    "# get the number of labels\n",
    "labels_numbers = np.unique(fake_image_IF)"
   ]
  },
  {
   "cell_type": "code",
   "execution_count": null,
   "id": "19dc628f-4ea4-44f2-b5ae-456039e50430",
   "metadata": {},
   "outputs": [],
   "source": [
    "# Select number of labels to keep\n",
    "# Good for different testing because you select new cells every time you want to build a new fake image\n",
    "labels_to_keep = np.random.choice(labels_numbers,size=20)"
   ]
  },
  {
   "cell_type": "code",
   "execution_count": null,
   "id": "8fbf9523-1058-40c6-b307-4b987137fdf2",
   "metadata": {},
   "outputs": [
    {
     "ename": "TypeError",
     "evalue": "Non-integer label_image types are ambiguous",
     "output_type": "error",
     "traceback": [
      "\u001b[1;31m---------------------------------------------------------------------------\u001b[0m",
      "\u001b[1;31mTypeError\u001b[0m                                 Traceback (most recent call last)",
      "\u001b[1;32m~\\AppData\\Local\\Temp/ipykernel_28104/568632369.py\u001b[0m in \u001b[0;36m<module>\u001b[1;34m\u001b[0m\n\u001b[1;32m----> 1\u001b[1;33m \u001b[0mnuclei_masks_regionprop\u001b[0m \u001b[1;33m=\u001b[0m \u001b[0mmeasure\u001b[0m\u001b[1;33m.\u001b[0m\u001b[0mregionprops\u001b[0m\u001b[1;33m(\u001b[0m\u001b[0mnuclei_masks_img\u001b[0m\u001b[1;33m,\u001b[0m\u001b[0mextra_properties\u001b[0m\u001b[1;33m=\u001b[0m\u001b[1;32mNone\u001b[0m\u001b[1;33m)\u001b[0m\u001b[1;33m\u001b[0m\u001b[1;33m\u001b[0m\u001b[0m\n\u001b[0m",
      "\u001b[1;32mc:\\Users\\Syousefi\\Documents\\Repos\\Neuron_paper_analysis_Marcos_Otero_2021-06-21\\env1\\lib\\site-packages\\skimage\\measure\\_regionprops.py\u001b[0m in \u001b[0;36mregionprops\u001b[1;34m(label_image, intensity_image, cache, coordinates, extra_properties)\u001b[0m\n\u001b[0;32m   1125\u001b[0m                     'the True values as a single label.')\n\u001b[0;32m   1126\u001b[0m         \u001b[1;32melse\u001b[0m\u001b[1;33m:\u001b[0m\u001b[1;33m\u001b[0m\u001b[1;33m\u001b[0m\u001b[0m\n\u001b[1;32m-> 1127\u001b[1;33m             raise TypeError(\n\u001b[0m\u001b[0;32m   1128\u001b[0m                     'Non-integer label_image types are ambiguous')\n\u001b[0;32m   1129\u001b[0m \u001b[1;33m\u001b[0m\u001b[0m\n",
      "\u001b[1;31mTypeError\u001b[0m: Non-integer label_image types are ambiguous"
     ]
    }
   ],
   "source": [
    "nuclei_masks_regionprop = measure.regionprops(nuclei_masks_img,extra_properties=None)\n"
   ]
  },
  {
   "cell_type": "code",
   "execution_count": null,
   "id": "c273484f-b678-4231-af22-daa5f17fff63",
   "metadata": {
    "tags": []
   },
   "outputs": [],
   "source": [
    "fake_image_IF =np.zeros_like(nuclei_masks_img)\n",
    "for prop in nuclei_masks_regionprop:\n",
    "    if prop.label in labels_to_keep:\n",
    "        fake_image_IF[prop.coords[:,0],prop.coords[:,1]] = prop.label\n",
    "        "
   ]
  },
  {
   "cell_type": "code",
   "execution_count": null,
   "id": "ce47b2cc-519e-45d5-9d28-b5b948c5ccc0",
   "metadata": {},
   "outputs": [],
   "source": [
    "fake_image_IF=segmentation.expand_labels(fake_image_IF,distance=30)"
   ]
  },
  {
   "cell_type": "code",
   "execution_count": null,
   "id": "433bbf28-ecb9-42be-ab0a-eafacab8d45b",
   "metadata": {},
   "outputs": [
    {
     "name": "stderr",
     "output_type": "stream",
     "text": [
      "Clipping input data to the valid range for imshow with RGB data ([0..1] for floats or [0..255] for integers).\n"
     ]
    },
    {
     "data": {
      "application/vnd.jupyter.widget-view+json": {
       "model_id": "716234db5e9140bab240db28ffbf48d1",
       "version_major": 2,
       "version_minor": 0
      },
      "text/html": [
       "\n",
       "            <div style=\"display: inline-block;\">\n",
       "                <div class=\"jupyter-widgets widget-label\" style=\"text-align: center;\">\n",
       "                    Figure\n",
       "                </div>\n",
       "                <img src='data:image/png;base64,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' width=600.0/>\n",
       "            </div>\n",
       "        "
      ],
      "text/plain": [
       "Canvas(toolbar=Toolbar(toolitems=[('Home', 'Reset original view', 'home', 'home'), ('Back', 'Back to previous …"
      ]
     },
     "metadata": {},
     "output_type": "display_data"
    }
   ],
   "source": [
    "fig = plt.figure(figsize=(6,6))\n",
    "ax = fig.add_subplot(111)\n",
    "ax.axis('off')\n",
    "ax.set_title('Fake Image IF / Nuclei Mask')\n",
    "img_RGB = np.zeros([nuc_IF_positive.shape[0],nuc_IF_positive.shape[1],3])\n",
    "img_RGB[:,:,0] = nuclei_masks_img\n",
    "img_RGB[:,:,1] = fake_image_IF\n",
    "_ = ax.imshow(img_RGB)"
   ]
  },
  {
   "cell_type": "code",
   "execution_count": null,
   "id": "0cb909a2-f14b-4a03-a0bd-0ca3570a99f3",
   "metadata": {},
   "outputs": [],
   "source": [
    "# current selection criteria \n",
    "# 'remove' = remove the IF mapping on the nucleus that is covering the smallest nucleus\n",
    "# 'decide' = assign the entire IF data to the nucleus with larger area \n",
    "intersection_handling = 'decide' \n",
    "overlapping_region = 100\n",
    "\n",
    "# Determine overlapping nuclei+/IF+ signal\n",
    "nuc_IF_positive_regions = nuclei_masks_img.astype('bool')*fake_image_IF.astype('bool')\n",
    "label_overlapping_nuclei = nuc_IF_positive*nuclei_masks_img\n",
    "\n",
    "# Determine the labels of IF that show some overlapping\n",
    "labels_overlapping_IF = np.unique(nuc_IF_positive*fake_image_IF)\n",
    "\n",
    "# Highest label fake_image_IF\n",
    "starting_add_label = fake_image_IF.max()+1\n",
    "\n",
    "# Determine which nucleus to select if there is some overlapping\n",
    "fake_img_regionprops = measure.regionprops(fake_image_IF,extra_properties=None)\n",
    "\n",
    "matching = []\n",
    "\n",
    "for prop in fake_img_regionprops:\n",
    "    if prop.label in labels_overlapping_IF:\n",
    "        cropped_region = nuclei_masks_img[prop.coords[:,0],prop.coords[:,1]]\n",
    "        nuclei_labels_in_IF, counts_labels = np.unique(cropped_region,return_counts=True)\n",
    "        # If the first count is 0 because you are catching the background it needs to be rmeoved\n",
    "        if nuclei_labels_in_IF[0] == 0:\n",
    "            nuclei_labels_in_IF = nuclei_labels_in_IF[1:]\n",
    "            counts_labels = counts_labels[1:]\n",
    "        # Run processing according to different criteria\n",
    "        if intersection_handling == 'decide':\n",
    "            selected_label = nuclei_labels_in_IF[np.where(counts_labels == counts_labels.max())[0]][0]\n",
    "            matching.append((selected_label,prop.label))\n",
    "            "
   ]
  },
  {
   "cell_type": "code",
   "execution_count": null,
   "id": "a6f75523-5586-495e-8c86-3d3ff48a47f9",
   "metadata": {},
   "outputs": [],
   "source": [
    "# Create image for visualization\n",
    "final_nuclei_labels = [el[0] for el in matching]\n",
    "final_IF_labels = [el[1] for el in matching]\n",
    "removed_overlapped_IF =np.zeros_like(nuclei_masks_img)\n",
    "removed_overlapped_nuclei = np.zeros_like(nuclei_masks_img)\n",
    "for prop in nuclei_masks_regionprop:\n",
    "    if prop.label in final_nuclei_labels:\n",
    "        removed_overlapped_nuclei[prop.coords[:,0],prop.coords[:,1]] = prop.label\n",
    "\n",
    "for prop in fake_img_regionprops:\n",
    "    if prop.label in final_IF_labels:\n",
    "        removed_overlapped_IF[prop.coords[:,0],prop.coords[:,1]] = prop.label\n",
    " "
   ]
  },
  {
   "cell_type": "code",
   "execution_count": null,
   "id": "eb3deee4-1153-4121-a3a2-17d8e5c1ea39",
   "metadata": {},
   "outputs": [
    {
     "name": "stderr",
     "output_type": "stream",
     "text": [
      "Clipping input data to the valid range for imshow with RGB data ([0..1] for floats or [0..255] for integers).\n"
     ]
    },
    {
     "data": {
      "application/vnd.jupyter.widget-view+json": {
       "model_id": "38e9b509d2e94bad9bb2e01477e80098",
       "version_major": 2,
       "version_minor": 0
      },
      "text/html": [
       "\n",
       "            <div style=\"display: inline-block;\">\n",
       "                <div class=\"jupyter-widgets widget-label\" style=\"text-align: center;\">\n",
       "                    Figure\n",
       "                </div>\n",
       "                <img src='data:image/png;base64,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' width=600.0/>\n",
       "            </div>\n",
       "        "
      ],
      "text/plain": [
       "Canvas(toolbar=Toolbar(toolitems=[('Home', 'Reset original view', 'home', 'home'), ('Back', 'Back to previous …"
      ]
     },
     "metadata": {},
     "output_type": "display_data"
    }
   ],
   "source": [
    "fig = plt.figure(figsize=(6,6))\n",
    "ax = fig.add_subplot(111)\n",
    "ax.axis('off')\n",
    "ax.set_title('Selected nuclei / IF')\n",
    "img_RGB = np.zeros([nuc_IF_positive.shape[0],nuc_IF_positive.shape[1],3])\n",
    "img_RGB[:,:,0] = removed_overlapped_nuclei\n",
    "img_RGB[:,:,1] = removed_overlapped_IF\n",
    "_ = ax.imshow(img_RGB)"
   ]
  },
  {
   "cell_type": "code",
   "execution_count": null,
   "id": "68020d7d-eaa6-4a43-9b23-8ddc11c41625",
   "metadata": {},
   "outputs": [],
   "source": [
    "excluded_nuclei = ~removed_overlapped_nuclei.astype(bool)*removed_overlapped_IF.astype(bool)"
   ]
  },
  {
   "cell_type": "code",
   "execution_count": null,
   "id": "5c4a003f-ab6a-4bdf-ae16-0c260f006ded",
   "metadata": {},
   "outputs": [
    {
     "data": {
      "application/vnd.jupyter.widget-view+json": {
       "model_id": "bb1b746223304224820dd4559d2925ff",
       "version_major": 2,
       "version_minor": 0
      },
      "text/html": [
       "\n",
       "            <div style=\"display: inline-block;\">\n",
       "                <div class=\"jupyter-widgets widget-label\" style=\"text-align: center;\">\n",
       "                    Figure\n",
       "                </div>\n",
       "                <img src='data:image/png;base64,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' width=600.0/>\n",
       "            </div>\n",
       "        "
      ],
      "text/plain": [
       "Canvas(toolbar=Toolbar(toolitems=[('Home', 'Reset original view', 'home', 'home'), ('Back', 'Back to previous …"
      ]
     },
     "metadata": {},
     "output_type": "display_data"
    }
   ],
   "source": [
    "fig = plt.figure(figsize=(6,6))\n",
    "ax = fig.add_subplot(111)\n",
    "ax.axis('off')\n",
    "ax.set_title('excluded nuclei')\n",
    "_ = ax.imshow(excluded_nuclei)"
   ]
  },
  {
   "cell_type": "code",
   "execution_count": null,
   "id": "9b9925b5-04b4-438a-9e92-6e564515a70e",
   "metadata": {},
   "outputs": [
    {
     "data": {
      "application/vnd.jupyter.widget-view+json": {
       "model_id": "aeef64e1c14447d1a59adc6241466e73",
       "version_major": 2,
       "version_minor": 0
      },
      "text/html": [
       "\n",
       "            <div style=\"display: inline-block;\">\n",
       "                <div class=\"jupyter-widgets widget-label\" style=\"text-align: center;\">\n",
       "                    Figure\n",
       "                </div>\n",
       "                <img src='data:image/png;base64,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' width=640.0/>\n",
       "            </div>\n",
       "        "
      ],
      "text/plain": [
       "Canvas(toolbar=Toolbar(toolitems=[('Home', 'Reset original view', 'home', 'home'), ('Back', 'Back to previous …"
      ]
     },
     "metadata": {},
     "output_type": "display_data"
    }
   ],
   "source": [
    "# Masks used to measure in the IF image\n",
    "\n",
    "fig, axs = plt.subplots(1, 3)\n",
    "\n",
    "axs[0].axis('off')\n",
    "axs[0].set_title('nuclei region')\n",
    "_ = axs[0].imshow(removed_overlapped_nuclei)\n",
    "\n",
    "axs[1].axis('off')\n",
    "axs[1].set_title('entire IF segmented region')\n",
    "_ = axs[1].imshow(removed_overlapped_IF)\n",
    "\n",
    "axs[2].axis('off')\n",
    "axs[2].set_title('excluded nuclei')\n",
    "_ = axs[2].imshow(excluded_nuclei)\n",
    "\n",
    "plt.tight_layout()"
   ]
  },
  {
   "cell_type": "code",
   "execution_count": null,
   "id": "128aaf44-1d31-4b4f-8459-c2b67167d8f0",
   "metadata": {},
   "outputs": [],
   "source": []
  }
 ],
 "metadata": {
  "interpreter": {
   "hash": "8d32f92e77e05c951bc83b14552e3904158db445fa78db1e5edeefbe41fca4e2"
  },
  "kernelspec": {
   "display_name": "Python 3.8.3 64-bit ('env1': venv)",
   "name": "python3"
  },
  "language_info": {
   "codemirror_mode": {
    "name": "ipython",
    "version": 3
   },
   "file_extension": ".py",
   "mimetype": "text/x-python",
   "name": "python",
   "nbconvert_exporter": "python",
   "pygments_lexer": "ipython3",
   "version": "3.8.3"
  }
 },
 "nbformat": 4,
 "nbformat_minor": 5
}
